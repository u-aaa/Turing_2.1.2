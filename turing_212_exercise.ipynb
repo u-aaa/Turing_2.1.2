{
  "nbformat": 4,
  "nbformat_minor": 0,
  "metadata": {
    "colab": {
      "name": "turing 212 exercise.ipynb",
      "provenance": [],
      "authorship_tag": "ABX9TyO2btrrhtspDJXSfBXk+LWV",
      "include_colab_link": true
    },
    "kernelspec": {
      "name": "python3",
      "display_name": "Python 3"
    },
    "language_info": {
      "name": "python"
    }
  },
  "cells": [
    {
      "cell_type": "markdown",
      "metadata": {
        "id": "view-in-github",
        "colab_type": "text"
      },
      "source": [
        "<a href=\"https://colab.research.google.com/github/u-aaa/Turing_2.1.2/blob/main/turing_212_exercise.ipynb\" target=\"_parent\"><img src=\"https://colab.research.google.com/assets/colab-badge.svg\" alt=\"Open In Colab\"/></a>"
      ]
    },
    {
      "cell_type": "code",
      "metadata": {
        "colab": {
          "base_uri": "https://localhost:8080/"
        },
        "id": "ZTzfZyRNe5pD",
        "outputId": "bcc67cfa-78c7-4a29-c673-aaa76eb28519"
      },
      "source": [
        "# Installing pytest using pip\n",
        "!pip install pytest ipython_pytest"
      ],
      "execution_count": 1,
      "outputs": [
        {
          "output_type": "stream",
          "text": [
            "Requirement already satisfied: pytest in /usr/local/lib/python3.7/dist-packages (3.6.4)\n",
            "Collecting ipython_pytest\n",
            "  Downloading https://files.pythonhosted.org/packages/de/41/27fd955cca43bbbb546959b77bd5757495ffb2ca3cb08fc6b0cce6c366c8/ipython_pytest-0.0.1.tar.gz\n",
            "Requirement already satisfied: atomicwrites>=1.0 in /usr/local/lib/python3.7/dist-packages (from pytest) (1.4.0)\n",
            "Requirement already satisfied: more-itertools>=4.0.0 in /usr/local/lib/python3.7/dist-packages (from pytest) (8.8.0)\n",
            "Requirement already satisfied: pluggy<0.8,>=0.5 in /usr/local/lib/python3.7/dist-packages (from pytest) (0.7.1)\n",
            "Requirement already satisfied: six>=1.10.0 in /usr/local/lib/python3.7/dist-packages (from pytest) (1.15.0)\n",
            "Requirement already satisfied: attrs>=17.4.0 in /usr/local/lib/python3.7/dist-packages (from pytest) (21.2.0)\n",
            "Requirement already satisfied: setuptools in /usr/local/lib/python3.7/dist-packages (from pytest) (57.0.0)\n",
            "Requirement already satisfied: py>=1.5.0 in /usr/local/lib/python3.7/dist-packages (from pytest) (1.10.0)\n",
            "Building wheels for collected packages: ipython-pytest\n",
            "  Building wheel for ipython-pytest (setup.py) ... \u001b[?25l\u001b[?25hdone\n",
            "  Created wheel for ipython-pytest: filename=ipython_pytest-0.0.1-cp37-none-any.whl size=3636 sha256=eff220673daccd7cead2ad9c8e8247e2ce52ef772120cde9d05ca26fa84e4f84\n",
            "  Stored in directory: /root/.cache/pip/wheels/94/ea/8f/93a1085080699af835b096bf31b0db14030408fb125dd3e424\n",
            "Successfully built ipython-pytest\n",
            "Installing collected packages: ipython-pytest\n",
            "Successfully installed ipython-pytest-0.0.1\n"
          ],
          "name": "stdout"
        }
      ]
    },
    {
      "cell_type": "markdown",
      "metadata": {
        "id": "SxEBd8N5fGqK"
      },
      "source": [
        "As you are working in the notebooks, you also installed a tool called ipython_pytest. This tool is designed to run pytest inside notebooks. To configure it you will need to run %load_ext ipython_pytest one time in the notebook and you will also need to add %%pytest at every cell that contains test."
      ]
    },
    {
      "cell_type": "code",
      "metadata": {
        "id": "2fd5oKVge8HI"
      },
      "source": [
        "import ipython_pytest\n",
        "%load_ext ipython_pytest"
      ],
      "execution_count": 2,
      "outputs": []
    },
    {
      "cell_type": "code",
      "metadata": {
        "id": "MNZugoYJer38"
      },
      "source": [
        "class Tesla:\n",
        "    # WRITE YOUR CODE HERE\n",
        "    def __init__(self, model: str, color: str, autopilot: bool = False, efficiency: float = 0.3):\n",
        "        self.__model = model\n",
        "        self.__battery_charge = 99.9\n",
        "        self.__is_locked = True\n",
        "        self.__seats_count = 5\n",
        "        self.__color = color\n",
        "        self.__autopilot = autopilot\n",
        "        self.__efficiency = efficiency\n",
        "    \n",
        "    @property\n",
        "    def color(self):\n",
        "      return self.__color\n",
        "    \n",
        "    @property\n",
        "    def seats_count(self):\n",
        "      return self.__seats_count\n",
        "\n",
        "    @color.setter    \n",
        "    def color(self, new_color:str):\n",
        "      self.__color = new_color\n",
        "\n",
        "    @seats_count.setter\n",
        "    def seats_count(self, new_seat_count) ->None:\n",
        "      if new_seat_count >= 2:\n",
        "        self.__seats_count = new_seat_count\n",
        "        print(f\"The new seat count is now {new_seat_count}\")\n",
        "\n",
        "\n",
        "    def welcome(self) -> str:\n",
        "        raise NotImplementedError\n",
        "\n",
        "    def autopilot(self, obstacle: str) -> str:\n",
        "        # COMPLETE THE FUNCION\n",
        "        if self.__autopilot:\n",
        "            return f\"Tesla model {self.__model} avoids {obstacle}\"\n",
        "        return \"Autopilot is not available\"\n",
        "\n",
        "    def lock(self):\n",
        "      self.__is_locked = True\n",
        "\n",
        "    def unlock(self):\n",
        "      self.__is_locked = False\n",
        "  \n",
        "    def open_doors(self) -> str:\n",
        "        if self.__is_locked:\n",
        "          return \"Car is locked!\"\n",
        "        return \"Doors opens sideways\"\n",
        "\n",
        "    def check_battery_level(self) -> str:\n",
        "        return f\"Battery charge level is {self.__battery_charge}%\"\n",
        " \n",
        "    def charge_battery(self):\n",
        "        self.__battery_charge = 100\n",
        "        self.check_battery_level()\n",
        "\n",
        "    def drive(self, travel_range: float):\n",
        "        battery_discharge_percent = travel_range * self.__efficiency\n",
        "        if self.__battery_charge - battery_discharge_percent >= 0:\n",
        "          self.__battery_charge = (self.__battery_charge - battery_discharge_percent)\n",
        "        return self.check_battery_level()\n",
        "\n",
        "   "
      ],
      "execution_count": 3,
      "outputs": []
    },
    {
      "cell_type": "code",
      "metadata": {
        "colab": {
          "base_uri": "https://localhost:8080/"
        },
        "id": "9rKK0PzmfNrT",
        "outputId": "da2917e8-59ac-4081-fafa-fcb8a25fc9bf"
      },
      "source": [
        "%%pytest\n",
        "def can_unlock_car():\n",
        "  tesla = Tesla('S', 'Black')\n",
        "  assert tesla.open_doors() == \"Car is locked!\"\n",
        "  tesla.unlock()\n",
        "  assert tesla.open_doors() == \"Doors opens sideways\"\n",
        "\n"
      ],
      "execution_count": 4,
      "outputs": [
        {
          "output_type": "stream",
          "text": [
            "============================= test session starts ==============================\n",
            "platform linux -- Python 3.7.10, pytest-3.6.4, py-1.10.0, pluggy-0.7.1\n",
            "rootdir: /tmp/tmph5jkytcl, inifile:\n",
            "plugins: typeguard-2.7.1\n",
            "collected 0 items\n",
            "\n",
            "========================= no tests ran in 0.06 seconds =========================\n"
          ],
          "name": "stdout"
        }
      ]
    }
  ]
}